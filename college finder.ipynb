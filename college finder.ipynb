{
 "cells": [
  {
   "cell_type": "markdown",
   "metadata": {},
   "source": [
    "# PROJECT 1:- STUDENT PORTFOLIO"
   ]
  },
  {
   "cell_type": "code",
   "execution_count": 4,
   "metadata": {},
   "outputs": [
    {
     "name": "stdout",
     "output_type": "stream",
     "text": [
      "Enter the marks of physics:- 98\n",
      "Enter the marks of maths:- 99\n",
      "Enter the marks of chemistry:- 95\n",
      "These are the marks of three subjects:- \n",
      "physics marks are 98\n",
      "maths marks are 99\n",
      "chemistry marks are 95\n"
     ]
    }
   ],
   "source": [
    "# Entering three subject marks in three variables using input() function\n",
    "physics=int(input(\"Enter the marks of physics:- \"))\n",
    "maths=int(input(\"Enter the marks of maths:- \"))\n",
    "chemistry=int(input(\"Enter the marks of chemistry:- \"))\n",
    "print(\"These are the marks of three subjects:- \")\n",
    "print(\"physics marks are\"+\" \"+str(physics))\n",
    "print(\"maths marks are\"+\" \"+str(maths))\n",
    "print(\"chemistry marks are\"+\" \"+str(chemistry))"
   ]
  }
 ],
 "metadata": {
  "kernelspec": {
   "display_name": "Python 3",
   "language": "python",
   "name": "python3"
  },
  "language_info": {
   "codemirror_mode": {
    "name": "ipython",
    "version": 3
   },
   "file_extension": ".py",
   "mimetype": "text/x-python",
   "name": "python",
   "nbconvert_exporter": "python",
   "pygments_lexer": "ipython3",
   "version": "3.8.5"
  }
 },
 "nbformat": 4,
 "nbformat_minor": 4
}
